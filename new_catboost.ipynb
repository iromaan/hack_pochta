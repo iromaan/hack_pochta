{
 "cells": [
  {
   "cell_type": "code",
   "execution_count": 26,
   "outputs": [],
   "source": [
    "import pandas as pd\n",
    "import seaborn as sns\n",
    "import matplotlib.pyplot as plt\n",
    "from sklearn.model_selection import train_test_split\n",
    "from sklearn.ensemble import RandomForestClassifier\n",
    "from sklearn.metrics import classification_report\n",
    "from sklearn.metrics import f1_score\n",
    "from sklearn.metrics import roc_auc_score\n",
    "from sklearn.metrics import accuracy_score\n",
    "from sklearn.metrics import recall_score\n",
    "import numpy as np\n",
    "\n",
    "%matplotlib inline"
   ],
   "metadata": {
    "collapsed": false
   }
  },
  {
   "cell_type": "code",
   "execution_count": 27,
   "outputs": [],
   "source": [
    "def data_preprocessed(data = \"train\"):\n",
    "    if data == \"train\":\n",
    "        df = pd.read_csv(\"train_dataset_train.csv\")\n",
    "    else:\n",
    "        df = pd.read_csv(\"test_dataset_test.csv\")\n",
    "    df.fillna(0)\n",
    "    #col_obj = df.select_dtypes(include=['object']).columns.values\n",
    "    new_df = df[\"oper_type + oper_attr\"].str.split('_',expand=True)\n",
    "    new_df.columns=[\"oper_type\", \"oper_attr\"]\n",
    "    df[\"oper_attr\"] = new_df[\"oper_attr\"]\n",
    "    df[\"oper_type\"] = new_df[\"oper_type\"]\n",
    "    mas_attr = ['51', '1002']\n",
    "    mas_type =['10', '34', '128']\n",
    "    df = (df[df.oper_type.isin(mas_type) == False])\n",
    "    df = (df[df.oper_attr.isin(mas_attr) == False])\n",
    "    col_obj = [\"oper_type + oper_attr\", 'name_mfi']\n",
    "    if data == \"train\":\n",
    "        X = df.drop(list(set(col_obj) ^ set(['id'])), axis = 1)\n",
    "        return X\n",
    "    else:\n",
    "        X = df.drop(list(set(col_obj)), axis = 1)\n",
    "        return X"
   ],
   "metadata": {
    "collapsed": false
   }
  },
  {
   "cell_type": "code",
   "execution_count": 37,
   "outputs": [],
   "source": [
    "def my_predict(model, name_file_predict):\n",
    "    test = data_preprocessed(\"test\")\n",
    "    feat = ['index_oper', 'type', 'priority', 'is_privatecategory', 'class', 'mailtype', 'mailctg', 'mailrank', 'directctg',\n",
    "            'transport_pay', 'postmark', 'is_in_yandex', \"is_return\", \"oper_type\", 'is_wrong_sndr_name',\n",
    "            'is_wrong_rcpn_name', 'is_wrong_phone_number', 'is_wrong_address', \"oper_attr\"]\n",
    "    test[feat] = test[feat].astype('string')\n",
    "    prediction = model.predict(test.drop(['id'], axis = 1))\n",
    "    sub = pd.DataFrame({'id': test[\"id\"], 'label': prediction})\n",
    "    sub.to_csv(name_file_predict, line_terminator = '\\n', index=False)"
   ],
   "metadata": {
    "collapsed": false
   }
  },
  {
   "cell_type": "code",
   "execution_count": 29,
   "outputs": [],
   "source": [
    "train = data_preprocessed()"
   ],
   "metadata": {
    "collapsed": false
   }
  },
  {
   "cell_type": "code",
   "execution_count": 31,
   "outputs": [],
   "source": [
    "feat = ['index_oper', 'type', 'priority', 'is_privatecategory', 'class', 'mailtype', 'mailctg', 'mailrank', 'directctg',\n",
    "        'transport_pay', 'postmark', 'is_in_yandex', \"is_return\", \"oper_type\", 'is_wrong_sndr_name',\n",
    "        'is_wrong_rcpn_name', 'is_wrong_phone_number', 'is_wrong_address', \"oper_attr\"]\n",
    "train[feat] = train[feat].astype('string')"
   ],
   "metadata": {
    "collapsed": false
   }
  },
  {
   "cell_type": "code",
   "execution_count": 33,
   "outputs": [],
   "source": [
    "from sklearn.model_selection import train_test_split\n",
    "X_train, X_test, y_train, y_test = train_test_split(train.drop(['label'], axis = 1), train['label'], test_size=0.33, random_state= 42)"
   ],
   "metadata": {
    "collapsed": false
   }
  },
  {
   "cell_type": "code",
   "execution_count": 39,
   "outputs": [],
   "source": [
    "from imblearn.over_sampling import RandomOverSampler\n",
    "OverS = RandomOverSampler(random_state=42)\n",
    "X_Over, Y_Over = OverS.fit_resample(X_train, y_train)"
   ],
   "metadata": {
    "collapsed": false
   }
  },
  {
   "cell_type": "code",
   "execution_count": 34,
   "outputs": [
    {
     "data": {
      "text/plain": "        index_oper  type priority is_privatecategory class is_in_yandex  \\\n4521366     102971   Цех   7506.0                  N   0.0            N   \n5748280     102971   Цех   7506.0                  N   0.0            N   \n2464773     102976  ММПО   7503.0                  N   0.0            N   \n1530661     102976  ММПО   7503.0                  N   0.0            N   \n5566679   630302.0   Цех   7503.0                  N   0.0            N   \n\n        is_return  weight mailtype mailctg  ... total_qty_oper_login_1  \\\n4521366         N    26.0      5.0     0.0  ...             60613352.0   \n5748280         N   130.0      5.0     0.0  ...             67541214.0   \n2464773         N   459.0      5.0     1.0  ...             64270133.0   \n1530661         N     9.0      5.0     0.0  ...             64270133.0   \n5566679         N   181.0      5.0     1.0  ...             25083674.0   \n\n        total_qty_oper_login_0 total_qty_over_index_and_type  \\\n4521366                10648.0                    60624000.0   \n5748280                 7870.0                    67549084.0   \n2464773            116432632.0                   180702765.0   \n1530661            116432632.0                   180702765.0   \n5566679                33874.0                    25117548.0   \n\n        total_qty_over_index  is_wrong_sndr_name  is_wrong_rcpn_name  \\\n4521366           75592387.0                   0                   0   \n5748280           72981134.0                   0                   1   \n2464773          188407812.0                   0                   0   \n1530661          188407812.0                   0                   0   \n5566679           82035345.0                   0                   1   \n\n         is_wrong_phone_number  is_wrong_address  oper_attr  oper_type  \n4521366                      1                 0         -1          1  \n5748280                      1                 0         -1       1022  \n2464773                      0                 0          6          8  \n1530661                      1                 0         -1       1014  \n5566679                      0                 0         -1       1018  \n\n[5 rows x 27 columns]",
      "text/html": "<div>\n<style scoped>\n    .dataframe tbody tr th:only-of-type {\n        vertical-align: middle;\n    }\n\n    .dataframe tbody tr th {\n        vertical-align: top;\n    }\n\n    .dataframe thead th {\n        text-align: right;\n    }\n</style>\n<table border=\"1\" class=\"dataframe\">\n  <thead>\n    <tr style=\"text-align: right;\">\n      <th></th>\n      <th>index_oper</th>\n      <th>type</th>\n      <th>priority</th>\n      <th>is_privatecategory</th>\n      <th>class</th>\n      <th>is_in_yandex</th>\n      <th>is_return</th>\n      <th>weight</th>\n      <th>mailtype</th>\n      <th>mailctg</th>\n      <th>...</th>\n      <th>total_qty_oper_login_1</th>\n      <th>total_qty_oper_login_0</th>\n      <th>total_qty_over_index_and_type</th>\n      <th>total_qty_over_index</th>\n      <th>is_wrong_sndr_name</th>\n      <th>is_wrong_rcpn_name</th>\n      <th>is_wrong_phone_number</th>\n      <th>is_wrong_address</th>\n      <th>oper_attr</th>\n      <th>oper_type</th>\n    </tr>\n  </thead>\n  <tbody>\n    <tr>\n      <th>4521366</th>\n      <td>102971</td>\n      <td>Цех</td>\n      <td>7506.0</td>\n      <td>N</td>\n      <td>0.0</td>\n      <td>N</td>\n      <td>N</td>\n      <td>26.0</td>\n      <td>5.0</td>\n      <td>0.0</td>\n      <td>...</td>\n      <td>60613352.0</td>\n      <td>10648.0</td>\n      <td>60624000.0</td>\n      <td>75592387.0</td>\n      <td>0</td>\n      <td>0</td>\n      <td>1</td>\n      <td>0</td>\n      <td>-1</td>\n      <td>1</td>\n    </tr>\n    <tr>\n      <th>5748280</th>\n      <td>102971</td>\n      <td>Цех</td>\n      <td>7506.0</td>\n      <td>N</td>\n      <td>0.0</td>\n      <td>N</td>\n      <td>N</td>\n      <td>130.0</td>\n      <td>5.0</td>\n      <td>0.0</td>\n      <td>...</td>\n      <td>67541214.0</td>\n      <td>7870.0</td>\n      <td>67549084.0</td>\n      <td>72981134.0</td>\n      <td>0</td>\n      <td>1</td>\n      <td>1</td>\n      <td>0</td>\n      <td>-1</td>\n      <td>1022</td>\n    </tr>\n    <tr>\n      <th>2464773</th>\n      <td>102976</td>\n      <td>ММПО</td>\n      <td>7503.0</td>\n      <td>N</td>\n      <td>0.0</td>\n      <td>N</td>\n      <td>N</td>\n      <td>459.0</td>\n      <td>5.0</td>\n      <td>1.0</td>\n      <td>...</td>\n      <td>64270133.0</td>\n      <td>116432632.0</td>\n      <td>180702765.0</td>\n      <td>188407812.0</td>\n      <td>0</td>\n      <td>0</td>\n      <td>0</td>\n      <td>0</td>\n      <td>6</td>\n      <td>8</td>\n    </tr>\n    <tr>\n      <th>1530661</th>\n      <td>102976</td>\n      <td>ММПО</td>\n      <td>7503.0</td>\n      <td>N</td>\n      <td>0.0</td>\n      <td>N</td>\n      <td>N</td>\n      <td>9.0</td>\n      <td>5.0</td>\n      <td>0.0</td>\n      <td>...</td>\n      <td>64270133.0</td>\n      <td>116432632.0</td>\n      <td>180702765.0</td>\n      <td>188407812.0</td>\n      <td>0</td>\n      <td>0</td>\n      <td>1</td>\n      <td>0</td>\n      <td>-1</td>\n      <td>1014</td>\n    </tr>\n    <tr>\n      <th>5566679</th>\n      <td>630302.0</td>\n      <td>Цех</td>\n      <td>7503.0</td>\n      <td>N</td>\n      <td>0.0</td>\n      <td>N</td>\n      <td>N</td>\n      <td>181.0</td>\n      <td>5.0</td>\n      <td>1.0</td>\n      <td>...</td>\n      <td>25083674.0</td>\n      <td>33874.0</td>\n      <td>25117548.0</td>\n      <td>82035345.0</td>\n      <td>0</td>\n      <td>1</td>\n      <td>0</td>\n      <td>0</td>\n      <td>-1</td>\n      <td>1018</td>\n    </tr>\n  </tbody>\n</table>\n<p>5 rows × 27 columns</p>\n</div>"
     },
     "execution_count": 34,
     "metadata": {},
     "output_type": "execute_result"
    }
   ],
   "source": [
    "X_train.head()"
   ],
   "metadata": {
    "collapsed": false
   }
  },
  {
   "cell_type": "code",
   "execution_count": null,
   "outputs": [],
   "source": [
    "from catboost import CatBoostClassifier\n",
    "\n",
    "cat_features = ['index_oper', 'type', 'priority', 'is_privatecategory', 'class','mailtype', 'mailctg', 'mailrank', 'directctg', 'transport_pay', 'postmark', 'is_in_yandex', \"is_return\", \"oper_type\", 'is_wrong_sndr_name', 'is_wrong_rcpn_name', 'is_wrong_phone_number', 'is_wrong_address',  \"oper_attr\"]\n",
    "\n",
    "model = CatBoostClassifier(\n",
    "    iterations=150,\n",
    "    early_stopping_rounds = 20,\n",
    "    random_seed=42,\n",
    "    #metric_period = 20,\n",
    "    learning_rate=0.2,\n",
    "    task_type = \"GPU\",\n",
    "    eval_metric = 'Recall'\n",
    ")\n",
    "model.fit(\n",
    "    X_Over, Y_Over,\n",
    "    cat_features = cat_features,\n",
    "    eval_set=(X_test, y_test),\n",
    "    verbose = True\n",
    ")"
   ],
   "metadata": {
    "collapsed": false,
    "pycharm": {
     "is_executing": true
    }
   }
  },
  {
   "cell_type": "code",
   "execution_count": null,
   "outputs": [],
   "source": [
    "my_predict(model, \"model.csv\")"
   ],
   "metadata": {
    "collapsed": false,
    "pycharm": {
     "is_executing": true
    }
   }
  },
  {
   "cell_type": "code",
   "execution_count": 43,
   "outputs": [],
   "source": [
    "y_pred = model.predict(X_test)"
   ],
   "metadata": {
    "collapsed": false
   }
  },
  {
   "cell_type": "code",
   "execution_count": 44,
   "outputs": [
    {
     "name": "stdout",
     "output_type": "stream",
     "text": [
      "F1:  0.5596950976484656\n",
      "Accuracy:  0.9553646239215272\n",
      "Recall:  0.9743119550881396\n",
      "ROC_AUC:  0.9743119550881396\n",
      "Score:  0.9743119550881396\n"
     ]
    }
   ],
   "source": [
    "print(\"F1: \", f1_score(y_test, y_pred))\n",
    "print(\"Accuracy: \", accuracy_score(y_test, y_pred))\n",
    "score_recall = recall_score(y_test, y_pred, average = \"macro\" )\n",
    "score_auc = roc_auc_score(y_test,  y_pred, multi_class='ovo')\n",
    "print(\"Recall: \", score_recall)\n",
    "print(\"ROC_AUC: \", score_auc)\n",
    "print(\"Score: \", 0.1 * score_recall + 0.9 * score_auc)"
   ],
   "metadata": {
    "collapsed": false
   }
  },
  {
   "cell_type": "markdown",
   "source": [
    "F1:  0.23920931091816\n",
    "ROC_AUR:  0.8839866552620088\n",
    "Recall:  0.9429362073987766\n",
    "Accuracy:  0.82841\n",
    "Score = 0.845385"
   ],
   "metadata": {
    "collapsed": false
   }
  }
 ],
 "metadata": {
  "kernelspec": {
   "display_name": "Python 3",
   "language": "python",
   "name": "python3"
  },
  "language_info": {
   "codemirror_mode": {
    "name": "ipython",
    "version": 2
   },
   "file_extension": ".py",
   "mimetype": "text/x-python",
   "name": "python",
   "nbconvert_exporter": "python",
   "pygments_lexer": "ipython2",
   "version": "2.7.6"
  }
 },
 "nbformat": 4,
 "nbformat_minor": 0
}
